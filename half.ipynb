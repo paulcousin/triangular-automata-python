{
 "cells": [
  {
   "cell_type": "code",
   "execution_count": 1,
   "metadata": {},
   "outputs": [],
   "source": [
    "import torch, math, matplotlib.pyplot as plt\n",
    "import torch.nn.functional as F\n",
    "import numpy as np\n",
    "from tqdm import tqdm"
   ]
  },
  {
   "cell_type": "code",
   "execution_count": null,
   "metadata": {},
   "outputs": [
    {
     "name": "stderr",
     "output_type": "stream",
     "text": [
      "  0%|          | 897/262144 [00:05<57:58, 75.11it/s]  "
     ]
    }
   ],
   "source": [
    "rule_number, time = 210, 2**18 # parameters\n",
    "\n",
    "plt.ioff() # turns off the plot\n",
    "\n",
    "state = torch.zeros((5,9), dtype=torch.int64); state[0,4]=1\n",
    "height, width = state.size(dim=0), state.size(dim=1)\n",
    "rule = torch.tensor(([int(d) for d in 8*'0'+str(bin(rule_number))[2:]])[:-9:-1])\n",
    "population = [1]\n",
    "center_column = [[1,0,0]]\n",
    "\n",
    "for step in tqdm(range(1,time+1)):\n",
    "    if step % 4 == 0:\n",
    "        state = F.pad(state, (2,2,0,4), \"constant\", 0)\n",
    "        height, width = state.size(dim=0), state.size(dim=1)\n",
    "    config = torch.roll(state, 1, 0) + torch.roll(state, -1, 0)\n",
    "    config[0,::] *= 2 # reapeat for first row\n",
    "    config += 4*state\n",
    "    config[0::2,0::2] += torch.roll(state, -1, 1)[0::2,0::2]\n",
    "    config[1::2,0::2] += torch.roll(state, 1, 1)[1::2,0::2]\n",
    "    config[0::2,1::2] += torch.roll(state, 1, 1)[0::2,1::2]\n",
    "    config[1::2,1::2] += torch.roll(state, -1, 1)[1::2,1::2]\n",
    "    config[-1,::] = 0 # Reseting the border to config 0\n",
    "    state = rule.take(config)\n",
    "    population.append(int(2*torch.sum(state)-torch.sum(state[0,::])))\n",
    "    center_column.append([int(state[x,int((width-1)/2)]) for x in (0,1,2)])\n",
    "    if step % 512 == 0:\n",
    "        f = open(\"_half/rule-\"+str(rule_number)+\"-state-\"+str(step)+\".txt\", \"w\")\n",
    "        f.write(str(state.tolist()).replace('[', '{').replace(']', '}'))\n",
    "        f.close()\n",
    "        f = open(\"_half/rule-\"+str(rule_number)+\"-population-\"+str(step)+\".txt\", \"w\")\n",
    "        f.write(str(population).replace('[', '{').replace(']', '}'))\n",
    "        f.close()\n",
    "        f = open(\"_half/rule-\"+str(rule_number)+\"-center_column-\"+str(step)+\".txt\", \"w\")\n",
    "        f.write(str(center_column).replace('[', '{').replace(']', '}'))\n",
    "        f.close()\n",
    "        plt.axis('off'); plt.imshow(state, aspect=1/math.sqrt(3), interpolation='antialiased')\n",
    "        plt.savefig(\"_half/rule-\"+str(rule_number)+\"-plot-\"+str(step)+\".png\",bbox_inches='tight',dpi=500)\n",
    "\n",
    "# plt.axis('off'); plt.imshow(state, aspect=1/math.sqrt(3), interpolation='antialiased')"
   ]
  }
 ],
 "metadata": {
  "kernelspec": {
   "display_name": "base",
   "language": "python",
   "name": "python3"
  },
  "language_info": {
   "codemirror_mode": {
    "name": "ipython",
    "version": 3
   },
   "file_extension": ".py",
   "mimetype": "text/x-python",
   "name": "python",
   "nbconvert_exporter": "python",
   "pygments_lexer": "ipython3",
   "version": "3.9.7"
  }
 },
 "nbformat": 4,
 "nbformat_minor": 2
}
