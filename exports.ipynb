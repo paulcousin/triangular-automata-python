{
 "cells": [
  {
   "cell_type": "code",
   "execution_count": null,
   "metadata": {},
   "outputs": [],
   "source": [
    "import torch, math, matplotlib.pyplot as plt\n",
    "import torch.nn.functional as F\n",
    "import numpy as np\n",
    "from tqdm import tqdm\n",
    "\n",
    "plt.ioff()\n",
    "\n",
    "rule_number, time = 210, 2**18 # parameters\n",
    "\n",
    "state = torch.zeros((7,5), dtype=torch.int64); state[3,2]=1\n",
    "rule = torch.tensor(([int(d) for d in 8*'0'+str(bin(rule_number))[2:]])[:-9:-1])\n",
    "population = [1]\n",
    "center_column = [[1,0,0]]\n",
    "\n",
    "for step in tqdm(range(1,time+1)):\n",
    "    if step % 4 == 0:\n",
    "        state = F.pad(state, (2,2,4,4), \"constant\", 0)\n",
    "    height, width = state.size(dim=0), state.size(dim=1)\n",
    "    config = 4*state + torch.roll(state, 1, 0) + torch.roll(state, -1, 0)\n",
    "    config[0::2,0::2] += torch.roll(state, 1, 1)[0::2,0::2]\n",
    "    config[1::2,0::2] += torch.roll(state, -1, 1)[1::2,0::2]\n",
    "    config[0::2,1::2] += torch.roll(state, -1, 1)[0::2,1::2]\n",
    "    config[1::2,1::2] += torch.roll(state, 1, 1)[1::2,1::2]\n",
    "    state = rule.take(config)\n",
    "    population.append(int(torch.sum(state)))\n",
    "    center_column.append([int(state[int((height-1)/2)+x,int((width-1)/2)]) for x in (0,1,2)])\n",
    "    if step % 512 == 0:\n",
    "        f = open(\"_exports/rule-\"+str(rule_number)+\"-state-\"+str(step)+\".txt\", \"w\")\n",
    "        f.write(str(state.tolist()).replace('[', '{').replace(']', '}'))\n",
    "        f.close()\n",
    "        f = open(\"_exports/rule-\"+str(rule_number)+\"-population-\"+str(step)+\".txt\", \"w\")\n",
    "        f.write(str(population).replace('[', '{').replace(']', '}'))\n",
    "        f.close()\n",
    "        f = open(\"_exports/rule-\"+str(rule_number)+\"-center_column-\"+str(step)+\".txt\", \"w\")\n",
    "        f.write(str(center_column).replace('[', '{').replace(']', '}'))\n",
    "        f.close()\n",
    "        plt.axis('off'); plt.imshow(state, aspect=1/math.sqrt(3), interpolation='antialiased')\n",
    "        plt.savefig(\"_exports/rule-\"+str(rule_number)+\"-plot-\"+str(step)+\".png\",bbox_inches='tight',dpi=500)"
   ]
  }
 ],
 "metadata": {
  "kernelspec": {
   "display_name": "base",
   "language": "python",
   "name": "python3"
  },
  "language_info": {
   "codemirror_mode": {
    "name": "ipython",
    "version": 3
   },
   "file_extension": ".py",
   "mimetype": "text/x-python",
   "name": "python",
   "nbconvert_exporter": "python",
   "pygments_lexer": "ipython3",
   "version": "3.9.7"
  }
 },
 "nbformat": 4,
 "nbformat_minor": 2
}
